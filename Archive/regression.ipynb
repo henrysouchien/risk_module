{
 "cells": [
  {
   "cell_type": "code",
   "execution_count": null,
   "id": "32843026-d1cf-4c07-8398-2530cfe0a755",
   "metadata": {},
   "outputs": [],
   "source": [
    "# File: regression.py\n",
    "\n",
    "import statsmodels.api as sm\n",
    "import pandas as pd\n",
    "from typing import Dict\n",
    "\n",
    "def compute_regression_metrics(df: pd.DataFrame) -> Dict[str, float]:\n",
    "    \"\"\"\n",
    "    Run OLS regression of stock ~ market.\n",
    "    Returns beta, alpha, R², and idiosyncratic volatility.\n",
    "    \"\"\"\n",
    "    X = sm.add_constant(df[\"market\"])\n",
    "    y = df[\"stock\"]\n",
    "    model = sm.OLS(y, X).fit()\n",
    "\n",
    "    return {\n",
    "        \"beta\":      float(model.params[\"market\"]),\n",
    "        \"alpha\":     float(model.params[\"const\"]),\n",
    "        \"r_squared\": float(model.rsquared),\n",
    "        \"idio_vol\":  float(model.resid.std())\n",
    "    }"
   ]
  }
 ],
 "metadata": {
  "kernelspec": {
   "display_name": "Python 3 (ipykernel)",
   "language": "python",
   "name": "python3"
  },
  "language_info": {
   "codemirror_mode": {
    "name": "ipython",
    "version": 3
   },
   "file_extension": ".py",
   "mimetype": "text/x-python",
   "name": "python",
   "nbconvert_exporter": "python",
   "pygments_lexer": "ipython3",
   "version": "3.13.2"
  }
 },
 "nbformat": 4,
 "nbformat_minor": 5
}
