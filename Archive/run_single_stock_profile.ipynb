{
 "cells": [
  {
   "cell_type": "code",
   "execution_count": null,
   "id": "89cca2ed-01a5-44d5-8eb4-7f5e0dbd177b",
   "metadata": {},
   "outputs": [],
   "source": [
    "import pandas as pd\n",
    "from pprint import pprint\n",
    "\n",
    "from risk_summary import (\n",
    "    get_stock_risk_profile,\n",
    "    get_detailed_stock_factor_profile\n",
    ")\n",
    "\n",
    "from factor_utils import (\n",
    "    fetch_excess_return,\n",
    "    fetch_peer_median_monthly_returns,\n",
    "    calc_monthly_returns,\n",
    "    compute_volatility,\n",
    "    compute_regression_metrics,\n",
    "    compute_factor_metrics\n",
    ")\n",
    "\n",
    "from data_loader import fetch_monthly_close"
   ]
  },
  {
   "cell_type": "code",
   "execution_count": null,
   "id": "9af20af4-8302-4841-8856-a7d176d3ccf8",
   "metadata": {},
   "outputs": [],
   "source": [
    "# File: run_single_stock_profile.py\n",
    "\n",
    "#from risk_summary import get_stock_risk_profile  # only if it's in a separate .py file\n",
    "\n",
    "# Example: Get 5-year risk profile for PCTY vs SPY\n",
    "result = get_stock_risk_profile(\"PCTY\", benchmark=\"SPY\", years=5)\n",
    "\n",
    "print(\"=== Volatility Metrics ===\")\n",
    "print(result[\"vol_metrics\"])\n",
    "\n",
    "print(\"\\n=== Regression Risk Metrics ===\")\n",
    "print(result[\"risk_metrics\"])"
   ]
  },
  {
   "cell_type": "code",
   "execution_count": null,
   "id": "592bc52c-43b4-4d2e-9f5c-63d5923e6d02",
   "metadata": {},
   "outputs": [],
   "source": [
    "# File: run_single_stock_profile.py\n",
    "\n",
    "#from risk_summary import get_detailed_stock_factor_profile  # only if it's in a separate .py file\n",
    "\n",
    "start = \"2019-04-30\"\n",
    "end   = \"2024-03-31\"\n",
    "\n",
    "profile = get_detailed_stock_factor_profile(\n",
    "    ticker=\"PCTY\",\n",
    "    start_date=start,\n",
    "    end_date=end,\n",
    "    factor_proxies={\n",
    "        \"market\": \"SPY\",\n",
    "        \"momentum\": \"MTUM\",\n",
    "        \"value\": \"IWD\",\n",
    "        \"industry\": \"XSW\",\n",
    "        \"subindustry\": [\"PAYC\", \"PYCR\", \"CDAY\", \"ADP\", \"PAYX\", \"WDAY\"]\n",
    "    }\n",
    ")\n",
    "\n",
    "print(\"=== Volatility ===\")\n",
    "print(profile[\"vol_metrics\"])\n",
    "\n",
    "print(\"\\n=== Market Regression ===\")\n",
    "print(profile[\"regression_metrics\"])\n",
    "\n",
    "print(\"\\n=== Factor Summary ===\")\n",
    "print(profile[\"factor_summary\"])"
   ]
  }
 ],
 "metadata": {
  "kernelspec": {
   "display_name": "Python 3 (ipykernel)",
   "language": "python",
   "name": "python3"
  },
  "language_info": {
   "codemirror_mode": {
    "name": "ipython",
    "version": 3
   },
   "file_extension": ".py",
   "mimetype": "text/x-python",
   "name": "python",
   "nbconvert_exporter": "python",
   "pygments_lexer": "ipython3",
   "version": "3.13.2"
  }
 },
 "nbformat": 4,
 "nbformat_minor": 5
}
