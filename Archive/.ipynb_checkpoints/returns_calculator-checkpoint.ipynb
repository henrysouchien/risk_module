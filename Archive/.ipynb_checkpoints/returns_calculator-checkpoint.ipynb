{
 "cells": [
  {
   "cell_type": "code",
   "execution_count": null,
   "id": "1c1c9439-6613-4990-a12c-e60d1b006c20",
   "metadata": {},
   "outputs": [],
   "source": [
    "# File: returns_calculator.py\n",
    "\n",
    "import pandas as pd\n",
    "\n",
    "def calc_monthly_returns(prices: pd.Series) -> pd.Series:\n",
    "    \"\"\"\n",
    "    Compute percent-change monthly returns, dropping NaNs.\n",
    "    \"\"\"\n",
    "    return prices.pct_change().dropna()"
   ]
  }
 ],
 "metadata": {
  "kernelspec": {
   "display_name": "Python 3 (ipykernel)",
   "language": "python",
   "name": "python3"
  },
  "language_info": {
   "codemirror_mode": {
    "name": "ipython",
    "version": 3
   },
   "file_extension": ".py",
   "mimetype": "text/x-python",
   "name": "python",
   "nbconvert_exporter": "python",
   "pygments_lexer": "ipython3",
   "version": "3.13.2"
  }
 },
 "nbformat": 4,
 "nbformat_minor": 5
}
