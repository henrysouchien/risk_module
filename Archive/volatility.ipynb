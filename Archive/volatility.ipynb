{
 "cells": [
  {
   "cell_type": "code",
   "execution_count": null,
   "id": "75fd3dea-71a2-4711-bf78-a11ae72bf36b",
   "metadata": {},
   "outputs": [],
   "source": [
    "# File: volatility.py\n",
    "\n",
    "import numpy as np\n",
    "from typing import Dict\n",
    "import pandas as pd\n",
    "\n",
    "def compute_volatility(returns: pd.Series) -> Dict[str, float]:\n",
    "    \"\"\"\n",
    "    Calculate monthly and annualized volatility from a returns series.\n",
    "    \"\"\"\n",
    "    vol_monthly = float(returns.std())\n",
    "    vol_annual  = vol_monthly * np.sqrt(12)\n",
    "    return {\n",
    "        \"monthly_vol\": vol_monthly,\n",
    "        \"annual_vol\":  vol_annual\n",
    "    }"
   ]
  }
 ],
 "metadata": {
  "kernelspec": {
   "display_name": "Python 3 (ipykernel)",
   "language": "python",
   "name": "python3"
  },
  "language_info": {
   "codemirror_mode": {
    "name": "ipython",
    "version": 3
   },
   "file_extension": ".py",
   "mimetype": "text/x-python",
   "name": "python",
   "nbconvert_exporter": "python",
   "pygments_lexer": "ipython3",
   "version": "3.13.2"
  }
 },
 "nbformat": 4,
 "nbformat_minor": 5
}
