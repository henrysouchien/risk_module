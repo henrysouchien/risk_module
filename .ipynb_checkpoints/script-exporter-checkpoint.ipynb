{
 "cells": [
  {
   "cell_type": "code",
   "execution_count": 549,
   "id": "0f7a342b-f16b-4a4f-a6e1-fc22d069cb9a",
   "metadata": {},
   "outputs": [],
   "source": [
    "#Script to export scripts as a PY file versioned\n",
    "\n",
    "import nbformat\n",
    "from nbconvert import PythonExporter\n",
    "from pathlib import Path\n",
    "from datetime import datetime\n",
    "\n",
    "def export_notebook_versioned (notebook_filename=None):\n",
    "    \"\"\"\n",
    "    Converts a Jupyter notebook (.ipynb) into a .py script with a date-stamped filename.\n",
    "    \"\"\"\n",
    "    if notebook_filename is None:\n",
    "        notebook_filename = input(\"Enter notebook filename (e.g. screener_utils.ipynb): \")\n",
    "\n",
    "    path = Path(notebook_filename)\n",
    "    if not path.exists():\n",
    "        print(f\"❌ File not found: {notebook_filename}\")\n",
    "        return\n",
    "\n",
    "    # Read notebook\n",
    "    notebook = nbformat.read(path, as_version=4)\n",
    "\n",
    "    # Export to .py\n",
    "    exporter = PythonExporter()\n",
    "    script, _ = exporter.from_notebook_node(notebook)\n",
    "\n",
    "    # Generate timestamped filename\n",
    "    date_str = datetime.today().strftime(\"%Y-%m-%d\")\n",
    "    new_filename = f\"{path.stem}_{date_str}.py\"\n",
    "    new_path = path.with_name(new_filename)\n",
    "\n",
    "    # Write to file\n",
    "    new_path.write_text(script)\n",
    "\n",
    "    print(f\"✅ Exported: {new_path.name}\")\n",
    "\n",
    "# Example usage:\n",
    "# export_notebook_to_py(\"screener_utils.ipynb\")"
   ]
  },
  {
   "cell_type": "code",
   "execution_count": 693,
   "id": "44362e92-0f66-43de-9d44-4fe7b640d468",
   "metadata": {},
   "outputs": [
    {
     "name": "stdout",
     "output_type": "stream",
     "text": [
      "✅ Exported: risk_module_dev_2025-06-27.py\n"
     ]
    }
   ],
   "source": [
    "export_notebook_versioned(\"risk_module_dev.ipynb\")"
   ]
  },
  {
   "cell_type": "code",
   "execution_count": 681,
   "id": "e047b7a5-7215-4a3d-b95b-8056a4e6d0fa",
   "metadata": {},
   "outputs": [],
   "source": [
    "#Script to export scripts as a PY file\n",
    "\n",
    "import nbformat\n",
    "from nbconvert import PythonExporter\n",
    "from pathlib import Path\n",
    "\n",
    "def export_notebook_to_py(notebook_filename=None):\n",
    "    \"\"\"\n",
    "    Converts a Jupyter notebook (.ipynb) into a .py script.\n",
    "\n",
    "    You can pass the notebook filename directly,\n",
    "    or it will ask for one interactively.\n",
    "    \"\"\"\n",
    "    if notebook_filename is None:\n",
    "        notebook_filename = input(\"Enter notebook filename (e.g. screener_utils.ipynb): \")\n",
    "\n",
    "    path = Path(notebook_filename)\n",
    "    if not path.exists():\n",
    "        print(f\"❌ File not found: {notebook_filename}\")\n",
    "        return\n",
    "\n",
    "    # Read notebook\n",
    "    notebook = nbformat.read(path, as_version=4)\n",
    "\n",
    "    # Export to .py\n",
    "    exporter = PythonExporter()\n",
    "    script, _ = exporter.from_notebook_node(notebook)\n",
    "\n",
    "    # Write to file\n",
    "    py_path = path.with_suffix(\".py\")\n",
    "    py_path.write_text(script)\n",
    "\n",
    "    print(f\"✅ Exported: {py_path.name}\")\n",
    "\n",
    "# Example usage:\n",
    "# export_notebook_to_py(\"screener_utils.ipynb\")  # uncomment this to run directly"
   ]
  },
  {
   "cell_type": "code",
   "execution_count": 694,
   "id": "936c51d6-d21c-4ec1-9722-983ca5b4b91a",
   "metadata": {},
   "outputs": [
    {
     "name": "stdout",
     "output_type": "stream",
     "text": [
      "✅ Exported: data_loader.py\n"
     ]
    }
   ],
   "source": [
    "export_notebook_to_py(\"data_loader.ipynb\")"
   ]
  },
  {
   "cell_type": "code",
   "execution_count": 695,
   "id": "0dad6c7c-bc87-46ce-87dd-7416dfe6d573",
   "metadata": {},
   "outputs": [
    {
     "name": "stdout",
     "output_type": "stream",
     "text": [
      "✅ Exported: factor_utils.py\n"
     ]
    }
   ],
   "source": [
    "export_notebook_to_py(\"factor_utils.ipynb\")"
   ]
  },
  {
   "cell_type": "code",
   "execution_count": 696,
   "id": "95d8de89-aa14-4fdc-812f-569c0b65c44b",
   "metadata": {},
   "outputs": [
    {
     "name": "stdout",
     "output_type": "stream",
     "text": [
      "✅ Exported: portfolio_risk.py\n"
     ]
    }
   ],
   "source": [
    "export_notebook_to_py(\"portfolio_risk.ipynb\")"
   ]
  },
  {
   "cell_type": "code",
   "execution_count": 697,
   "id": "3667c0df-c624-4f2a-bf1b-09b4c3c242af",
   "metadata": {},
   "outputs": [
    {
     "name": "stdout",
     "output_type": "stream",
     "text": [
      "✅ Exported: risk_summary.py\n"
     ]
    }
   ],
   "source": [
    "export_notebook_to_py(\"risk_summary.ipynb\")"
   ]
  },
  {
   "cell_type": "code",
   "execution_count": 698,
   "id": "6b293733-3e42-446a-88ba-006b6396442b",
   "metadata": {},
   "outputs": [
    {
     "name": "stdout",
     "output_type": "stream",
     "text": [
      "✅ Exported: run_portfolio_risk.py\n"
     ]
    }
   ],
   "source": [
    "export_notebook_to_py(\"run_portfolio_risk.ipynb\")"
   ]
  },
  {
   "cell_type": "code",
   "execution_count": 699,
   "id": "7b500ab7-27ac-4b06-8db6-bd20a25c71be",
   "metadata": {},
   "outputs": [
    {
     "name": "stdout",
     "output_type": "stream",
     "text": [
      "✅ Exported: portfolio_optimizer.py\n"
     ]
    }
   ],
   "source": [
    "export_notebook_to_py(\"portfolio_optimizer.ipynb\")"
   ]
  },
  {
   "cell_type": "code",
   "execution_count": 700,
   "id": "bed92b55-bae8-40f6-bb6c-02656ad55aa9",
   "metadata": {},
   "outputs": [
    {
     "name": "stdout",
     "output_type": "stream",
     "text": [
      "✅ Exported: risk_helpers.py\n"
     ]
    }
   ],
   "source": [
    "export_notebook_to_py(\"risk_helpers.ipynb\")"
   ]
  },
  {
   "cell_type": "code",
   "execution_count": 701,
   "id": "bee272d7-03a4-4f6e-88f5-cff4aab73e2a",
   "metadata": {},
   "outputs": [
    {
     "name": "stdout",
     "output_type": "stream",
     "text": [
      "✅ Exported: helpers_input.py\n"
     ]
    }
   ],
   "source": [
    "export_notebook_to_py(\"helpers_input.ipynb\")"
   ]
  },
  {
   "cell_type": "code",
   "execution_count": 702,
   "id": "8c7434a6-ed9b-4f43-8d52-5c2401c7a786",
   "metadata": {},
   "outputs": [
    {
     "name": "stdout",
     "output_type": "stream",
     "text": [
      "✅ Exported: helpers_display.py\n"
     ]
    }
   ],
   "source": [
    "export_notebook_to_py(\"helpers_display.ipynb\")"
   ]
  },
  {
   "cell_type": "code",
   "execution_count": 703,
   "id": "25f2c662-ab86-411d-876b-84a334630f32",
   "metadata": {},
   "outputs": [
    {
     "name": "stdout",
     "output_type": "stream",
     "text": [
      "✅ Exported: run_risk.py\n"
     ]
    }
   ],
   "source": [
    "export_notebook_to_py(\"run_risk.ipynb\")"
   ]
  },
  {
   "cell_type": "code",
   "execution_count": 704,
   "id": "90bad3b3-d9bc-4539-b8d9-cbe21efeb259",
   "metadata": {},
   "outputs": [
    {
     "name": "stdout",
     "output_type": "stream",
     "text": [
      "✅ Exported: send_risk_summary_to_gpt.py\n"
     ]
    }
   ],
   "source": [
    "export_notebook_to_py(\"send_risk_summary_to_gpt.ipynb\")"
   ]
  },
  {
   "cell_type": "code",
   "execution_count": null,
   "id": "aadc7bcd-66c6-45ed-94a1-7224d557db9a",
   "metadata": {},
   "outputs": [],
   "source": []
  },
  {
   "cell_type": "code",
   "execution_count": null,
   "id": "4fe7d9cd-f0d7-4877-8c8a-b236526164d4",
   "metadata": {},
   "outputs": [],
   "source": []
  }
 ],
 "metadata": {
  "kernelspec": {
   "display_name": "Python 3 (ipykernel)",
   "language": "python",
   "name": "python3"
  },
  "language_info": {
   "codemirror_mode": {
    "name": "ipython",
    "version": 3
   },
   "file_extension": ".py",
   "mimetype": "text/x-python",
   "name": "python",
   "nbconvert_exporter": "python",
   "pygments_lexer": "ipython3",
   "version": "3.13.2"
  }
 },
 "nbformat": 4,
 "nbformat_minor": 5
}
