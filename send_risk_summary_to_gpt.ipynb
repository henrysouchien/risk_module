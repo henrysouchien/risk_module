{
 "cells": [
  {
   "cell_type": "code",
   "execution_count": 1,
   "id": "6d51ec91-efc0-48e3-a283-e5abbea659e5",
   "metadata": {},
   "outputs": [],
   "source": [
    "from run_risk import run_portfolio, run_stock, run_what_if, run_min_variance, run_max_return"
   ]
  },
  {
   "cell_type": "code",
   "execution_count": 2,
   "id": "a5f775d8-6aa8-4b7f-9a0a-0646da94211f",
   "metadata": {},
   "outputs": [],
   "source": [
    "# === OPENAI API Setup ===\n",
    "import openai\n",
    "from io import StringIO\n",
    "from contextlib import redirect_stdout\n",
    "from dotenv import load_dotenv\n",
    "import os\n",
    "\n",
    "load_dotenv()  # This loads variables from .env into the environment\n",
    "\n",
    "# Now access your keys like this\n",
    "OPENAI_API_KEY = os.getenv(\"OPENAI_API_KEY\")\n",
    "client = openai.OpenAI(api_key=OPENAI_API_KEY)"
   ]
  },
  {
   "cell_type": "code",
   "execution_count": 3,
   "id": "ec93c8dd-ea83-42bf-a53c-da3ab6413544",
   "metadata": {},
   "outputs": [],
   "source": [
    "def interpret_portfolio_risk(diagnostics_text: str) -> str:\n",
    "    \"\"\"\n",
    "    Sends raw printed diagnostics to GPT for layman interpretation.\n",
    "    \"\"\"\n",
    "    user_prompt = (\n",
    "        \"You are a professional risk analyst at a hedge fund.\\n\"\n",
    "        \"I want you to help evaluate my portfolio. I will give you details of the portfolio's risk metrics.\\n\"\n",
    "        \"I want you to help interpret them for me and communicate with me in simple language.\\n\\n\"\n",
    "        f\"{diagnostics_text}\"\n",
    "    )\n",
    "\n",
    "    response = client.chat.completions.create(\n",
    "        model=\"gpt-4.1\",  # or \"gpt-4o-mini\" if desired\n",
    "        messages=[\n",
    "            {\"role\": \"system\", \"content\": \"You are a portfolio risk analysis expert.\"},\n",
    "            {\"role\": \"user\", \"content\": user_prompt}\n",
    "        ],\n",
    "        max_tokens=2000,\n",
    "        temperature=0.5\n",
    "    )\n",
    "\n",
    "    return response.choices[0].message.content.strip()"
   ]
  },
  {
   "cell_type": "code",
   "execution_count": 4,
   "id": "95c1af90-4efe-464a-a353-2364a106ba8e",
   "metadata": {},
   "outputs": [],
   "source": [
    "# Redirect printed output from the portfolio run\n",
    "f = StringIO()\n",
    "with redirect_stdout(f):\n",
    "    run_portfolio(\"portfolio.yaml\")\n",
    "\n",
    "raw_output = f.getvalue()"
   ]
  },
  {
   "cell_type": "code",
   "execution_count": null,
   "id": "b7fc293d-c44d-465f-85a3-18552af24982",
   "metadata": {},
   "outputs": [],
   "source": [
    "# Run GPT-based interpretation\n",
    "interpretation = interpret_portfolio_risk(raw_output)\n",
    "\n",
    "print(\"\\n=== GPT Portfolio Interpretation ===\\n\")\n",
    "print(interpretation)"
   ]
  },
  {
   "cell_type": "code",
   "execution_count": null,
   "id": "5c6323ab-bb7b-4479-b473-1b5403460d91",
   "metadata": {},
   "outputs": [],
   "source": []
  }
 ],
 "metadata": {
  "kernelspec": {
   "display_name": "Python 3 (ipykernel)",
   "language": "python",
   "name": "python3"
  },
  "language_info": {
   "codemirror_mode": {
    "name": "ipython",
    "version": 3
   },
   "file_extension": ".py",
   "mimetype": "text/x-python",
   "name": "python",
   "nbconvert_exporter": "python",
   "pygments_lexer": "ipython3",
   "version": "3.13.2"
  }
 },
 "nbformat": 4,
 "nbformat_minor": 5
}
